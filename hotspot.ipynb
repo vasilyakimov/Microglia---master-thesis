{
 "cells": [
  {
   "cell_type": "code",
   "execution_count": 528,
   "metadata": {},
   "outputs": [],
   "source": [
    "import scanpy as sc\n",
    "import hotspot\n",
    "import scipy\n",
    "import numpy as np\n",
    "import mplscience\n",
    "import matplotlib\n",
    "from numpy import array\n",
    "from scipy.sparse import coo_matrix\n"
   ]
  },
  {
   "cell_type": "code",
   "execution_count": 529,
   "metadata": {},
   "outputs": [],
   "source": [
    "adata = sc.read_csv(\"/home/PAK-CSPMZ/vakimov/mg_counts/sheep_counts.csv\", first_column_names = True).T"
   ]
  },
  {
   "cell_type": "code",
   "execution_count": 530,
   "metadata": {},
   "outputs": [
    {
     "data": {
      "text/plain": [
       "AnnData object with n_obs × n_vars = 321 × 24858"
      ]
     },
     "execution_count": 530,
     "metadata": {},
     "output_type": "execute_result"
    }
   ],
   "source": [
    "adata"
   ]
  },
  {
   "cell_type": "code",
   "execution_count": 531,
   "metadata": {},
   "outputs": [],
   "source": [
    "adata.obs[\"total_counts\"] = np.asarray(adata.X.sum(1)).ravel()\n",
    "adata.layers[\"counts\"] = adata.X"
   ]
  },
  {
   "cell_type": "code",
   "execution_count": 532,
   "metadata": {},
   "outputs": [],
   "source": [
    "adata.var_names_make_unique()\n",
    "sc.pp.filter_cells(adata, min_genes=1)\n",
    "sc.pp.filter_genes(adata, min_cells=1)"
   ]
  },
  {
   "cell_type": "code",
   "execution_count": 533,
   "metadata": {},
   "outputs": [],
   "source": [
    "adata.obs[\"total_counts\"] = np.asarray(adata.X.sum(1)).ravel()\n",
    "adata.layers[\"counts\"] = adata.X.copy()\n",
    "sc.pp.normalize_total(adata)\n",
    "sc.pp.log1p(adata)\n",
    "adata.layers[\"log_normalized\"] = adata.X.copy()\n",
    "sc.pp.scale(adata)\n",
    "sc.tl.pca(adata)"
   ]
  },
  {
   "cell_type": "code",
   "execution_count": 534,
   "metadata": {},
   "outputs": [
    {
     "data": {
      "text/plain": [
       "AnnData object with n_obs × n_vars = 321 × 9025\n",
       "    obs: 'total_counts', 'n_genes'\n",
       "    var: 'n_cells', 'mean', 'std'\n",
       "    uns: 'log1p', 'pca'\n",
       "    obsm: 'X_pca'\n",
       "    varm: 'PCs'\n",
       "    layers: 'counts', 'log_normalized'"
      ]
     },
     "execution_count": 534,
     "metadata": {},
     "output_type": "execute_result"
    }
   ],
   "source": [
    "adata"
   ]
  },
  {
   "cell_type": "code",
   "execution_count": 535,
   "metadata": {},
   "outputs": [],
   "source": [
    "hs = hotspot.Hotspot(\n",
    "    adata,\n",
    "    layer_key=\"counts\",\n",
    "    model='danb',\n",
    "    latent_obsm_key=\"X_pca\",\n",
    "    umi_counts_obs_key=\"total_counts\"\n",
    ")"
   ]
  },
  {
   "cell_type": "code",
   "execution_count": 536,
   "metadata": {},
   "outputs": [],
   "source": [
    "hs.create_knn_graph(\n",
    "    weighted_graph=False, n_neighbors=300,\n",
    ")"
   ]
  },
  {
   "cell_type": "code",
   "execution_count": 537,
   "metadata": {},
   "outputs": [
    {
     "name": "stderr",
     "output_type": "stream",
     "text": [
      "100%|██████████| 9025/9025 [00:05<00:00, 1728.43it/s]\n"
     ]
    },
    {
     "data": {
      "text/html": [
       "<div>\n",
       "<style scoped>\n",
       "    .dataframe tbody tr th:only-of-type {\n",
       "        vertical-align: middle;\n",
       "    }\n",
       "\n",
       "    .dataframe tbody tr th {\n",
       "        vertical-align: top;\n",
       "    }\n",
       "\n",
       "    .dataframe thead th {\n",
       "        text-align: right;\n",
       "    }\n",
       "</style>\n",
       "<table border=\"1\" class=\"dataframe\">\n",
       "  <thead>\n",
       "    <tr style=\"text-align: right;\">\n",
       "      <th></th>\n",
       "      <th>C</th>\n",
       "      <th>Z</th>\n",
       "      <th>Pval</th>\n",
       "      <th>FDR</th>\n",
       "    </tr>\n",
       "    <tr>\n",
       "      <th>Gene</th>\n",
       "      <th></th>\n",
       "      <th></th>\n",
       "      <th></th>\n",
       "      <th></th>\n",
       "    </tr>\n",
       "  </thead>\n",
       "  <tbody>\n",
       "    <tr>\n",
       "      <th>CYBB</th>\n",
       "      <td>0.008394</td>\n",
       "      <td>0.420514</td>\n",
       "      <td>0.337055</td>\n",
       "      <td>0.881993</td>\n",
       "    </tr>\n",
       "    <tr>\n",
       "      <th>SPATS2L</th>\n",
       "      <td>0.007460</td>\n",
       "      <td>0.406323</td>\n",
       "      <td>0.342253</td>\n",
       "      <td>0.881993</td>\n",
       "    </tr>\n",
       "    <tr>\n",
       "      <th>SPP1</th>\n",
       "      <td>0.008420</td>\n",
       "      <td>0.322774</td>\n",
       "      <td>0.373433</td>\n",
       "      <td>0.881993</td>\n",
       "    </tr>\n",
       "    <tr>\n",
       "      <th>ENSOART00000008110</th>\n",
       "      <td>0.005621</td>\n",
       "      <td>0.316834</td>\n",
       "      <td>0.375685</td>\n",
       "      <td>0.881993</td>\n",
       "    </tr>\n",
       "    <tr>\n",
       "      <th>XXYLT1</th>\n",
       "      <td>0.004890</td>\n",
       "      <td>0.311973</td>\n",
       "      <td>0.377530</td>\n",
       "      <td>0.881993</td>\n",
       "    </tr>\n",
       "    <tr>\n",
       "      <th>ANKRD23</th>\n",
       "      <td>0.008257</td>\n",
       "      <td>0.311587</td>\n",
       "      <td>0.377677</td>\n",
       "      <td>0.881993</td>\n",
       "    </tr>\n",
       "    <tr>\n",
       "      <th>SLC16A9</th>\n",
       "      <td>0.006850</td>\n",
       "      <td>0.282982</td>\n",
       "      <td>0.388595</td>\n",
       "      <td>0.881993</td>\n",
       "    </tr>\n",
       "    <tr>\n",
       "      <th>IDH1</th>\n",
       "      <td>0.006850</td>\n",
       "      <td>0.282982</td>\n",
       "      <td>0.388595</td>\n",
       "      <td>0.881993</td>\n",
       "    </tr>\n",
       "    <tr>\n",
       "      <th>ENSOART00000004257</th>\n",
       "      <td>0.006850</td>\n",
       "      <td>0.282982</td>\n",
       "      <td>0.388595</td>\n",
       "      <td>0.881993</td>\n",
       "    </tr>\n",
       "    <tr>\n",
       "      <th>MAP3K1</th>\n",
       "      <td>0.006850</td>\n",
       "      <td>0.282982</td>\n",
       "      <td>0.388595</td>\n",
       "      <td>0.881993</td>\n",
       "    </tr>\n",
       "    <tr>\n",
       "      <th>B9D1</th>\n",
       "      <td>0.006850</td>\n",
       "      <td>0.282982</td>\n",
       "      <td>0.388595</td>\n",
       "      <td>0.881993</td>\n",
       "    </tr>\n",
       "    <tr>\n",
       "      <th>TRMT10A</th>\n",
       "      <td>0.006850</td>\n",
       "      <td>0.282982</td>\n",
       "      <td>0.388595</td>\n",
       "      <td>0.881993</td>\n",
       "    </tr>\n",
       "    <tr>\n",
       "      <th>ARIH2</th>\n",
       "      <td>0.003565</td>\n",
       "      <td>0.281411</td>\n",
       "      <td>0.389198</td>\n",
       "      <td>0.881993</td>\n",
       "    </tr>\n",
       "    <tr>\n",
       "      <th>GTPBP4</th>\n",
       "      <td>0.004272</td>\n",
       "      <td>0.281410</td>\n",
       "      <td>0.389198</td>\n",
       "      <td>0.881993</td>\n",
       "    </tr>\n",
       "    <tr>\n",
       "      <th>URGCP</th>\n",
       "      <td>0.003486</td>\n",
       "      <td>0.274498</td>\n",
       "      <td>0.391851</td>\n",
       "      <td>0.881993</td>\n",
       "    </tr>\n",
       "    <tr>\n",
       "      <th>COG6</th>\n",
       "      <td>0.003662</td>\n",
       "      <td>0.273657</td>\n",
       "      <td>0.392174</td>\n",
       "      <td>0.881993</td>\n",
       "    </tr>\n",
       "    <tr>\n",
       "      <th>ENSOART00000013685</th>\n",
       "      <td>0.003136</td>\n",
       "      <td>0.269173</td>\n",
       "      <td>0.393898</td>\n",
       "      <td>0.881993</td>\n",
       "    </tr>\n",
       "    <tr>\n",
       "      <th>IKZF1</th>\n",
       "      <td>0.003767</td>\n",
       "      <td>0.267572</td>\n",
       "      <td>0.394514</td>\n",
       "      <td>0.881993</td>\n",
       "    </tr>\n",
       "    <tr>\n",
       "      <th>MTHFD1</th>\n",
       "      <td>0.003651</td>\n",
       "      <td>0.267259</td>\n",
       "      <td>0.394635</td>\n",
       "      <td>0.881993</td>\n",
       "    </tr>\n",
       "    <tr>\n",
       "      <th>MSR1</th>\n",
       "      <td>0.003768</td>\n",
       "      <td>0.266584</td>\n",
       "      <td>0.394895</td>\n",
       "      <td>0.881993</td>\n",
       "    </tr>\n",
       "    <tr>\n",
       "      <th>ENSOART00000003838</th>\n",
       "      <td>0.005730</td>\n",
       "      <td>0.260160</td>\n",
       "      <td>0.397370</td>\n",
       "      <td>0.881993</td>\n",
       "    </tr>\n",
       "    <tr>\n",
       "      <th>RNPEP</th>\n",
       "      <td>0.003259</td>\n",
       "      <td>0.258645</td>\n",
       "      <td>0.397954</td>\n",
       "      <td>0.881993</td>\n",
       "    </tr>\n",
       "    <tr>\n",
       "      <th>TUBE1</th>\n",
       "      <td>0.005364</td>\n",
       "      <td>0.255979</td>\n",
       "      <td>0.398984</td>\n",
       "      <td>0.881993</td>\n",
       "    </tr>\n",
       "    <tr>\n",
       "      <th>NEXMIF</th>\n",
       "      <td>0.004465</td>\n",
       "      <td>0.254369</td>\n",
       "      <td>0.399605</td>\n",
       "      <td>0.881993</td>\n",
       "    </tr>\n",
       "    <tr>\n",
       "      <th>ENSOART00000019729</th>\n",
       "      <td>0.003483</td>\n",
       "      <td>0.253406</td>\n",
       "      <td>0.399977</td>\n",
       "      <td>0.881993</td>\n",
       "    </tr>\n",
       "    <tr>\n",
       "      <th>TLE4</th>\n",
       "      <td>0.003724</td>\n",
       "      <td>0.253006</td>\n",
       "      <td>0.400132</td>\n",
       "      <td>0.881993</td>\n",
       "    </tr>\n",
       "    <tr>\n",
       "      <th>KIF18A</th>\n",
       "      <td>0.002757</td>\n",
       "      <td>0.238751</td>\n",
       "      <td>0.405649</td>\n",
       "      <td>0.881993</td>\n",
       "    </tr>\n",
       "    <tr>\n",
       "      <th>MYO18A</th>\n",
       "      <td>0.002776</td>\n",
       "      <td>0.236970</td>\n",
       "      <td>0.406340</td>\n",
       "      <td>0.881993</td>\n",
       "    </tr>\n",
       "    <tr>\n",
       "      <th>C1orf216</th>\n",
       "      <td>0.003313</td>\n",
       "      <td>0.236919</td>\n",
       "      <td>0.406360</td>\n",
       "      <td>0.881993</td>\n",
       "    </tr>\n",
       "    <tr>\n",
       "      <th>ENSOART00000000243</th>\n",
       "      <td>0.003348</td>\n",
       "      <td>0.234744</td>\n",
       "      <td>0.407204</td>\n",
       "      <td>0.881993</td>\n",
       "    </tr>\n",
       "    <tr>\n",
       "      <th>LGMN</th>\n",
       "      <td>0.002462</td>\n",
       "      <td>0.231192</td>\n",
       "      <td>0.408583</td>\n",
       "      <td>0.881993</td>\n",
       "    </tr>\n",
       "    <tr>\n",
       "      <th>ADAT1</th>\n",
       "      <td>0.004477</td>\n",
       "      <td>0.229772</td>\n",
       "      <td>0.409135</td>\n",
       "      <td>0.881993</td>\n",
       "    </tr>\n",
       "    <tr>\n",
       "      <th>HTD2</th>\n",
       "      <td>0.003025</td>\n",
       "      <td>0.226401</td>\n",
       "      <td>0.410445</td>\n",
       "      <td>0.881993</td>\n",
       "    </tr>\n",
       "    <tr>\n",
       "      <th>FAM184A</th>\n",
       "      <td>0.004490</td>\n",
       "      <td>0.225625</td>\n",
       "      <td>0.410747</td>\n",
       "      <td>0.881993</td>\n",
       "    </tr>\n",
       "    <tr>\n",
       "      <th>CD79A</th>\n",
       "      <td>0.002200</td>\n",
       "      <td>0.207575</td>\n",
       "      <td>0.417780</td>\n",
       "      <td>0.881993</td>\n",
       "    </tr>\n",
       "    <tr>\n",
       "      <th>UBIAD1</th>\n",
       "      <td>0.003428</td>\n",
       "      <td>0.206920</td>\n",
       "      <td>0.418036</td>\n",
       "      <td>0.881993</td>\n",
       "    </tr>\n",
       "    <tr>\n",
       "      <th>SLC40A1</th>\n",
       "      <td>0.002792</td>\n",
       "      <td>0.206268</td>\n",
       "      <td>0.418291</td>\n",
       "      <td>0.881993</td>\n",
       "    </tr>\n",
       "    <tr>\n",
       "      <th>GLRB</th>\n",
       "      <td>0.002976</td>\n",
       "      <td>0.206220</td>\n",
       "      <td>0.418309</td>\n",
       "      <td>0.881993</td>\n",
       "    </tr>\n",
       "    <tr>\n",
       "      <th>PYGL</th>\n",
       "      <td>0.003288</td>\n",
       "      <td>0.201362</td>\n",
       "      <td>0.420208</td>\n",
       "      <td>0.881993</td>\n",
       "    </tr>\n",
       "    <tr>\n",
       "      <th>SCN1A</th>\n",
       "      <td>0.002461</td>\n",
       "      <td>0.200545</td>\n",
       "      <td>0.420527</td>\n",
       "      <td>0.881993</td>\n",
       "    </tr>\n",
       "    <tr>\n",
       "      <th>ENSOART00000025390</th>\n",
       "      <td>0.003494</td>\n",
       "      <td>0.199224</td>\n",
       "      <td>0.421044</td>\n",
       "      <td>0.881993</td>\n",
       "    </tr>\n",
       "    <tr>\n",
       "      <th>CIAO1</th>\n",
       "      <td>0.003658</td>\n",
       "      <td>0.197990</td>\n",
       "      <td>0.421526</td>\n",
       "      <td>0.881993</td>\n",
       "    </tr>\n",
       "    <tr>\n",
       "      <th>PHC1</th>\n",
       "      <td>0.003658</td>\n",
       "      <td>0.197990</td>\n",
       "      <td>0.421526</td>\n",
       "      <td>0.881993</td>\n",
       "    </tr>\n",
       "    <tr>\n",
       "      <th>ENSOART00000005443</th>\n",
       "      <td>0.003658</td>\n",
       "      <td>0.197990</td>\n",
       "      <td>0.421526</td>\n",
       "      <td>0.881993</td>\n",
       "    </tr>\n",
       "    <tr>\n",
       "      <th>CPNE9</th>\n",
       "      <td>0.003658</td>\n",
       "      <td>0.197990</td>\n",
       "      <td>0.421526</td>\n",
       "      <td>0.881993</td>\n",
       "    </tr>\n",
       "    <tr>\n",
       "      <th>ENSOART00000020543</th>\n",
       "      <td>0.003658</td>\n",
       "      <td>0.197990</td>\n",
       "      <td>0.421526</td>\n",
       "      <td>0.881993</td>\n",
       "    </tr>\n",
       "    <tr>\n",
       "      <th>TPRA1</th>\n",
       "      <td>0.002645</td>\n",
       "      <td>0.194852</td>\n",
       "      <td>0.422754</td>\n",
       "      <td>0.881993</td>\n",
       "    </tr>\n",
       "    <tr>\n",
       "      <th>ENSOART00000002297</th>\n",
       "      <td>0.002662</td>\n",
       "      <td>0.193820</td>\n",
       "      <td>0.423158</td>\n",
       "      <td>0.881993</td>\n",
       "    </tr>\n",
       "    <tr>\n",
       "      <th>ENSOART00000000589</th>\n",
       "      <td>0.002505</td>\n",
       "      <td>0.193013</td>\n",
       "      <td>0.423474</td>\n",
       "      <td>0.881993</td>\n",
       "    </tr>\n",
       "    <tr>\n",
       "      <th>PPP1R8</th>\n",
       "      <td>0.002611</td>\n",
       "      <td>0.188220</td>\n",
       "      <td>0.425352</td>\n",
       "      <td>0.881993</td>\n",
       "    </tr>\n",
       "  </tbody>\n",
       "</table>\n",
       "</div>"
      ],
      "text/plain": [
       "                           C         Z      Pval       FDR\n",
       "Gene                                                      \n",
       "CYBB                0.008394  0.420514  0.337055  0.881993\n",
       "SPATS2L             0.007460  0.406323  0.342253  0.881993\n",
       "SPP1                0.008420  0.322774  0.373433  0.881993\n",
       "ENSOART00000008110  0.005621  0.316834  0.375685  0.881993\n",
       "XXYLT1              0.004890  0.311973  0.377530  0.881993\n",
       "ANKRD23             0.008257  0.311587  0.377677  0.881993\n",
       "SLC16A9             0.006850  0.282982  0.388595  0.881993\n",
       "IDH1                0.006850  0.282982  0.388595  0.881993\n",
       "ENSOART00000004257  0.006850  0.282982  0.388595  0.881993\n",
       "MAP3K1              0.006850  0.282982  0.388595  0.881993\n",
       "B9D1                0.006850  0.282982  0.388595  0.881993\n",
       "TRMT10A             0.006850  0.282982  0.388595  0.881993\n",
       "ARIH2               0.003565  0.281411  0.389198  0.881993\n",
       "GTPBP4              0.004272  0.281410  0.389198  0.881993\n",
       "URGCP               0.003486  0.274498  0.391851  0.881993\n",
       "COG6                0.003662  0.273657  0.392174  0.881993\n",
       "ENSOART00000013685  0.003136  0.269173  0.393898  0.881993\n",
       "IKZF1               0.003767  0.267572  0.394514  0.881993\n",
       "MTHFD1              0.003651  0.267259  0.394635  0.881993\n",
       "MSR1                0.003768  0.266584  0.394895  0.881993\n",
       "ENSOART00000003838  0.005730  0.260160  0.397370  0.881993\n",
       "RNPEP               0.003259  0.258645  0.397954  0.881993\n",
       "TUBE1               0.005364  0.255979  0.398984  0.881993\n",
       "NEXMIF              0.004465  0.254369  0.399605  0.881993\n",
       "ENSOART00000019729  0.003483  0.253406  0.399977  0.881993\n",
       "TLE4                0.003724  0.253006  0.400132  0.881993\n",
       "KIF18A              0.002757  0.238751  0.405649  0.881993\n",
       "MYO18A              0.002776  0.236970  0.406340  0.881993\n",
       "C1orf216            0.003313  0.236919  0.406360  0.881993\n",
       "ENSOART00000000243  0.003348  0.234744  0.407204  0.881993\n",
       "LGMN                0.002462  0.231192  0.408583  0.881993\n",
       "ADAT1               0.004477  0.229772  0.409135  0.881993\n",
       "HTD2                0.003025  0.226401  0.410445  0.881993\n",
       "FAM184A             0.004490  0.225625  0.410747  0.881993\n",
       "CD79A               0.002200  0.207575  0.417780  0.881993\n",
       "UBIAD1              0.003428  0.206920  0.418036  0.881993\n",
       "SLC40A1             0.002792  0.206268  0.418291  0.881993\n",
       "GLRB                0.002976  0.206220  0.418309  0.881993\n",
       "PYGL                0.003288  0.201362  0.420208  0.881993\n",
       "SCN1A               0.002461  0.200545  0.420527  0.881993\n",
       "ENSOART00000025390  0.003494  0.199224  0.421044  0.881993\n",
       "CIAO1               0.003658  0.197990  0.421526  0.881993\n",
       "PHC1                0.003658  0.197990  0.421526  0.881993\n",
       "ENSOART00000005443  0.003658  0.197990  0.421526  0.881993\n",
       "CPNE9               0.003658  0.197990  0.421526  0.881993\n",
       "ENSOART00000020543  0.003658  0.197990  0.421526  0.881993\n",
       "TPRA1               0.002645  0.194852  0.422754  0.881993\n",
       "ENSOART00000002297  0.002662  0.193820  0.423158  0.881993\n",
       "ENSOART00000000589  0.002505  0.193013  0.423474  0.881993\n",
       "PPP1R8              0.002611  0.188220  0.425352  0.881993"
      ]
     },
     "execution_count": 537,
     "metadata": {},
     "output_type": "execute_result"
    }
   ],
   "source": [
    "hs_results = hs.compute_autocorrelations()\n",
    "\n",
    "hs_results.head(50)"
   ]
  },
  {
   "cell_type": "code",
   "execution_count": 538,
   "metadata": {},
   "outputs": [
    {
     "name": "stdout",
     "output_type": "stream",
     "text": [
      "Computing pair-wise local correlation on 0 features...\n"
     ]
    },
    {
     "name": "stderr",
     "output_type": "stream",
     "text": [
      "0it [00:00, ?it/s]\n",
      "0it [00:00, ?it/s]\n"
     ]
    },
    {
     "ename": "TypingError",
     "evalue": "Failed in nopython mode pipeline (step: nopython frontend)\nNo implementation of function Function(<built-in function getitem>) found for signature:\n \n >>> getitem(array(float64, 1d, C), Tuple(int64, Literal[int](0)))\n \nThere are 22 candidate implementations:\n   - Of which 20 did not match due to:\n   Overload of function 'getitem': File: <numerous>: Line N/A.\n     With argument(s): '(array(float64, 1d, C), UniTuple(int64 x 2))':\n    No match.\n   - Of which 1 did not match due to:\n   Overload in function 'GetItemBuffer.generic': File: numba/core/typing/arraydecl.py: Line 166.\n     With argument(s): '(array(float64, 1d, C), UniTuple(int64 x 2))':\n    Rejected as the implementation raised a specific error:\n      NumbaTypeError: cannot index array(float64, 1d, C) with 2 indices: UniTuple(int64 x 2)\n  raised from /usr/local/lib/python3.8/dist-packages/numba/core/typing/arraydecl.py:88\n   - Of which 1 did not match due to:\n   Overload in function 'GetItemBuffer.generic': File: numba/core/typing/arraydecl.py: Line 166.\n     With argument(s): '(array(float64, 1d, C), Tuple(int64, Literal[int](0)))':\n    Rejected as the implementation raised a specific error:\n      NumbaTypeError: cannot index array(float64, 1d, C) with 2 indices: Tuple(int64, Literal[int](0))\n  raised from /usr/local/lib/python3.8/dist-packages/numba/core/typing/arraydecl.py:88\n\nDuring: typing of intrinsic-call at /home/PAK-CSPMZ/vakimov/.local/lib/python3.8/site-packages/hotspot/local_stats_pairs.py (842)\n\nFile \".local/lib/python3.8/site-packages/hotspot/local_stats_pairs.py\", line 842:\ndef expand_pairs(pairs, vals, N):\n    <source elided>\n\n        x = pairs[i, 0]\n        ^\n",
     "output_type": "error",
     "traceback": [
      "\u001b[0;31m---------------------------------------------------------------------------\u001b[0m",
      "\u001b[0;31mTypingError\u001b[0m                               Traceback (most recent call last)",
      "\u001b[1;32m/home/PAK-CSPMZ/vakimov/Untitled5.ipynb Cell 11'\u001b[0m in \u001b[0;36m<cell line: 3>\u001b[0;34m()\u001b[0m\n\u001b[1;32m      <a href='vscode-notebook-cell://ssh-remote%2Bcs02.pak-cspmz.ru/home/PAK-CSPMZ/vakimov/Untitled5.ipynb#ch0000009vscode-remote?line=0'>1</a>\u001b[0m hs_genes \u001b[39m=\u001b[39m hs_results\u001b[39m.\u001b[39mloc[hs_results\u001b[39m.\u001b[39mFDR \u001b[39m<\u001b[39m \u001b[39m0.05\u001b[39m]\u001b[39m.\u001b[39mindex \u001b[39m# Select genes\u001b[39;00m\n\u001b[0;32m----> <a href='vscode-notebook-cell://ssh-remote%2Bcs02.pak-cspmz.ru/home/PAK-CSPMZ/vakimov/Untitled5.ipynb#ch0000009vscode-remote?line=2'>3</a>\u001b[0m local_correlations \u001b[39m=\u001b[39m hs\u001b[39m.\u001b[39;49mcompute_local_correlations(hs_genes)\n",
      "File \u001b[0;32m~/.local/lib/python3.8/site-packages/hotspot/hotspot.py:469\u001b[0m, in \u001b[0;36mHotspot.compute_local_correlations\u001b[0;34m(self, genes, jobs)\u001b[0m\n\u001b[1;32m    <a href='file:///home/PAK-CSPMZ/vakimov/.local/lib/python3.8/site-packages/hotspot/hotspot.py?line=458'>459</a>\u001b[0m \u001b[39mprint\u001b[39m(\n\u001b[1;32m    <a href='file:///home/PAK-CSPMZ/vakimov/.local/lib/python3.8/site-packages/hotspot/hotspot.py?line=459'>460</a>\u001b[0m     \u001b[39m\"\u001b[39m\u001b[39mComputing pair-wise local correlation on \u001b[39m\u001b[39m{}\u001b[39;00m\u001b[39m features...\u001b[39m\u001b[39m\"\u001b[39m\u001b[39m.\u001b[39mformat(\u001b[39mlen\u001b[39m(genes))\n\u001b[1;32m    <a href='file:///home/PAK-CSPMZ/vakimov/.local/lib/python3.8/site-packages/hotspot/hotspot.py?line=460'>461</a>\u001b[0m )\n\u001b[1;32m    <a href='file:///home/PAK-CSPMZ/vakimov/.local/lib/python3.8/site-packages/hotspot/hotspot.py?line=461'>462</a>\u001b[0m counts_dense \u001b[39m=\u001b[39m \u001b[39mself\u001b[39m\u001b[39m.\u001b[39m_counts_from_anndata(\n\u001b[1;32m    <a href='file:///home/PAK-CSPMZ/vakimov/.local/lib/python3.8/site-packages/hotspot/hotspot.py?line=462'>463</a>\u001b[0m     \u001b[39mself\u001b[39m\u001b[39m.\u001b[39madata[:, genes],\n\u001b[1;32m    <a href='file:///home/PAK-CSPMZ/vakimov/.local/lib/python3.8/site-packages/hotspot/hotspot.py?line=463'>464</a>\u001b[0m     \u001b[39mself\u001b[39m\u001b[39m.\u001b[39mlayer_key,\n\u001b[1;32m    <a href='file:///home/PAK-CSPMZ/vakimov/.local/lib/python3.8/site-packages/hotspot/hotspot.py?line=464'>465</a>\u001b[0m     dense\u001b[39m=\u001b[39m\u001b[39mTrue\u001b[39;00m,\n\u001b[1;32m    <a href='file:///home/PAK-CSPMZ/vakimov/.local/lib/python3.8/site-packages/hotspot/hotspot.py?line=465'>466</a>\u001b[0m     pandas\u001b[39m=\u001b[39m\u001b[39mTrue\u001b[39;00m,\n\u001b[1;32m    <a href='file:///home/PAK-CSPMZ/vakimov/.local/lib/python3.8/site-packages/hotspot/hotspot.py?line=466'>467</a>\u001b[0m )\n\u001b[0;32m--> <a href='file:///home/PAK-CSPMZ/vakimov/.local/lib/python3.8/site-packages/hotspot/hotspot.py?line=468'>469</a>\u001b[0m lc, lcz \u001b[39m=\u001b[39m compute_hs_pairs_centered_cond(\n\u001b[1;32m    <a href='file:///home/PAK-CSPMZ/vakimov/.local/lib/python3.8/site-packages/hotspot/hotspot.py?line=469'>470</a>\u001b[0m     counts_dense,\n\u001b[1;32m    <a href='file:///home/PAK-CSPMZ/vakimov/.local/lib/python3.8/site-packages/hotspot/hotspot.py?line=470'>471</a>\u001b[0m     \u001b[39mself\u001b[39;49m\u001b[39m.\u001b[39;49mneighbors,\n\u001b[1;32m    <a href='file:///home/PAK-CSPMZ/vakimov/.local/lib/python3.8/site-packages/hotspot/hotspot.py?line=471'>472</a>\u001b[0m     \u001b[39mself\u001b[39;49m\u001b[39m.\u001b[39;49mweights,\n\u001b[1;32m    <a href='file:///home/PAK-CSPMZ/vakimov/.local/lib/python3.8/site-packages/hotspot/hotspot.py?line=472'>473</a>\u001b[0m     \u001b[39mself\u001b[39;49m\u001b[39m.\u001b[39;49mumi_counts,\n\u001b[1;32m    <a href='file:///home/PAK-CSPMZ/vakimov/.local/lib/python3.8/site-packages/hotspot/hotspot.py?line=473'>474</a>\u001b[0m     \u001b[39mself\u001b[39;49m\u001b[39m.\u001b[39;49mmodel,\n\u001b[1;32m    <a href='file:///home/PAK-CSPMZ/vakimov/.local/lib/python3.8/site-packages/hotspot/hotspot.py?line=474'>475</a>\u001b[0m     jobs\u001b[39m=\u001b[39;49mjobs,\n\u001b[1;32m    <a href='file:///home/PAK-CSPMZ/vakimov/.local/lib/python3.8/site-packages/hotspot/hotspot.py?line=475'>476</a>\u001b[0m )\n\u001b[1;32m    <a href='file:///home/PAK-CSPMZ/vakimov/.local/lib/python3.8/site-packages/hotspot/hotspot.py?line=477'>478</a>\u001b[0m \u001b[39mself\u001b[39m\u001b[39m.\u001b[39mlocal_correlation_c \u001b[39m=\u001b[39m lc\n\u001b[1;32m    <a href='file:///home/PAK-CSPMZ/vakimov/.local/lib/python3.8/site-packages/hotspot/hotspot.py?line=478'>479</a>\u001b[0m \u001b[39mself\u001b[39m\u001b[39m.\u001b[39mlocal_correlation_z \u001b[39m=\u001b[39m lcz\n",
      "File \u001b[0;32m~/.local/lib/python3.8/site-packages/hotspot/local_stats_pairs.py:787\u001b[0m, in \u001b[0;36mcompute_hs_pairs_centered_cond\u001b[0;34m(counts, neighbors, weights, num_umi, model, jobs)\u001b[0m\n\u001b[1;32m    <a href='file:///home/PAK-CSPMZ/vakimov/.local/lib/python3.8/site-packages/hotspot/local_stats_pairs.py?line=784'>785</a>\u001b[0m vals_lc \u001b[39m=\u001b[39m np\u001b[39m.\u001b[39marray([x[\u001b[39m0\u001b[39m] \u001b[39mfor\u001b[39;00m x \u001b[39min\u001b[39;00m results])\n\u001b[1;32m    <a href='file:///home/PAK-CSPMZ/vakimov/.local/lib/python3.8/site-packages/hotspot/local_stats_pairs.py?line=785'>786</a>\u001b[0m vals_z \u001b[39m=\u001b[39m np\u001b[39m.\u001b[39marray([x[\u001b[39m1\u001b[39m] \u001b[39mfor\u001b[39;00m x \u001b[39min\u001b[39;00m results])\n\u001b[0;32m--> <a href='file:///home/PAK-CSPMZ/vakimov/.local/lib/python3.8/site-packages/hotspot/local_stats_pairs.py?line=786'>787</a>\u001b[0m lcs \u001b[39m=\u001b[39m expand_pairs(pairs, vals_lc, N)\n\u001b[1;32m    <a href='file:///home/PAK-CSPMZ/vakimov/.local/lib/python3.8/site-packages/hotspot/local_stats_pairs.py?line=787'>788</a>\u001b[0m lc_zs \u001b[39m=\u001b[39m expand_pairs(pairs, vals_z, N)\n\u001b[1;32m    <a href='file:///home/PAK-CSPMZ/vakimov/.local/lib/python3.8/site-packages/hotspot/local_stats_pairs.py?line=789'>790</a>\u001b[0m lc_maxs \u001b[39m=\u001b[39m compute_local_cov_pairs_max(D, counts)\n",
      "File \u001b[0;32m/usr/local/lib/python3.8/dist-packages/numba/core/dispatcher.py:468\u001b[0m, in \u001b[0;36m_DispatcherBase._compile_for_args\u001b[0;34m(self, *args, **kws)\u001b[0m\n\u001b[1;32m    <a href='file:///usr/local/lib/python3.8/dist-packages/numba/core/dispatcher.py?line=463'>464</a>\u001b[0m         msg \u001b[39m=\u001b[39m (\u001b[39mf\u001b[39m\u001b[39m\"\u001b[39m\u001b[39m{\u001b[39;00m\u001b[39mstr\u001b[39m(e)\u001b[39m.\u001b[39mrstrip()\u001b[39m}\u001b[39;00m\u001b[39m \u001b[39m\u001b[39m\\n\u001b[39;00m\u001b[39m\\n\u001b[39;00m\u001b[39mThis error may have been caused \u001b[39m\u001b[39m\"\u001b[39m\n\u001b[1;32m    <a href='file:///usr/local/lib/python3.8/dist-packages/numba/core/dispatcher.py?line=464'>465</a>\u001b[0m                \u001b[39mf\u001b[39m\u001b[39m\"\u001b[39m\u001b[39mby the following argument(s):\u001b[39m\u001b[39m\\n\u001b[39;00m\u001b[39m{\u001b[39;00margs_str\u001b[39m}\u001b[39;00m\u001b[39m\\n\u001b[39;00m\u001b[39m\"\u001b[39m)\n\u001b[1;32m    <a href='file:///usr/local/lib/python3.8/dist-packages/numba/core/dispatcher.py?line=465'>466</a>\u001b[0m         e\u001b[39m.\u001b[39mpatch_message(msg)\n\u001b[0;32m--> <a href='file:///usr/local/lib/python3.8/dist-packages/numba/core/dispatcher.py?line=467'>468</a>\u001b[0m     error_rewrite(e, \u001b[39m'\u001b[39;49m\u001b[39mtyping\u001b[39;49m\u001b[39m'\u001b[39;49m)\n\u001b[1;32m    <a href='file:///usr/local/lib/python3.8/dist-packages/numba/core/dispatcher.py?line=468'>469</a>\u001b[0m \u001b[39mexcept\u001b[39;00m errors\u001b[39m.\u001b[39mUnsupportedError \u001b[39mas\u001b[39;00m e:\n\u001b[1;32m    <a href='file:///usr/local/lib/python3.8/dist-packages/numba/core/dispatcher.py?line=469'>470</a>\u001b[0m     \u001b[39m# Something unsupported is present in the user code, add help info\u001b[39;00m\n\u001b[1;32m    <a href='file:///usr/local/lib/python3.8/dist-packages/numba/core/dispatcher.py?line=470'>471</a>\u001b[0m     error_rewrite(e, \u001b[39m'\u001b[39m\u001b[39munsupported_error\u001b[39m\u001b[39m'\u001b[39m)\n",
      "File \u001b[0;32m/usr/local/lib/python3.8/dist-packages/numba/core/dispatcher.py:409\u001b[0m, in \u001b[0;36m_DispatcherBase._compile_for_args.<locals>.error_rewrite\u001b[0;34m(e, issue_type)\u001b[0m\n\u001b[1;32m    <a href='file:///usr/local/lib/python3.8/dist-packages/numba/core/dispatcher.py?line=406'>407</a>\u001b[0m     \u001b[39mraise\u001b[39;00m e\n\u001b[1;32m    <a href='file:///usr/local/lib/python3.8/dist-packages/numba/core/dispatcher.py?line=407'>408</a>\u001b[0m \u001b[39melse\u001b[39;00m:\n\u001b[0;32m--> <a href='file:///usr/local/lib/python3.8/dist-packages/numba/core/dispatcher.py?line=408'>409</a>\u001b[0m     \u001b[39mraise\u001b[39;00m e\u001b[39m.\u001b[39mwith_traceback(\u001b[39mNone\u001b[39;00m)\n",
      "\u001b[0;31mTypingError\u001b[0m: Failed in nopython mode pipeline (step: nopython frontend)\nNo implementation of function Function(<built-in function getitem>) found for signature:\n \n >>> getitem(array(float64, 1d, C), Tuple(int64, Literal[int](0)))\n \nThere are 22 candidate implementations:\n   - Of which 20 did not match due to:\n   Overload of function 'getitem': File: <numerous>: Line N/A.\n     With argument(s): '(array(float64, 1d, C), UniTuple(int64 x 2))':\n    No match.\n   - Of which 1 did not match due to:\n   Overload in function 'GetItemBuffer.generic': File: numba/core/typing/arraydecl.py: Line 166.\n     With argument(s): '(array(float64, 1d, C), UniTuple(int64 x 2))':\n    Rejected as the implementation raised a specific error:\n      NumbaTypeError: cannot index array(float64, 1d, C) with 2 indices: UniTuple(int64 x 2)\n  raised from /usr/local/lib/python3.8/dist-packages/numba/core/typing/arraydecl.py:88\n   - Of which 1 did not match due to:\n   Overload in function 'GetItemBuffer.generic': File: numba/core/typing/arraydecl.py: Line 166.\n     With argument(s): '(array(float64, 1d, C), Tuple(int64, Literal[int](0)))':\n    Rejected as the implementation raised a specific error:\n      NumbaTypeError: cannot index array(float64, 1d, C) with 2 indices: Tuple(int64, Literal[int](0))\n  raised from /usr/local/lib/python3.8/dist-packages/numba/core/typing/arraydecl.py:88\n\nDuring: typing of intrinsic-call at /home/PAK-CSPMZ/vakimov/.local/lib/python3.8/site-packages/hotspot/local_stats_pairs.py (842)\n\nFile \".local/lib/python3.8/site-packages/hotspot/local_stats_pairs.py\", line 842:\ndef expand_pairs(pairs, vals, N):\n    <source elided>\n\n        x = pairs[i, 0]\n        ^\n"
     ]
    }
   ],
   "source": [
    "hs_genes = hs_results.loc[hs_results.FDR < 0.05].index # Select genes\n",
    "\n",
    "local_correlations = hs.compute_local_correlations(hs_genes) # jobs for parallelization"
   ]
  },
  {
   "cell_type": "code",
   "execution_count": null,
   "metadata": {},
   "outputs": [],
   "source": [
    "modules = hs.create_modules(\n",
    "    min_gene_threshold=30, core_only=True, fdr_threshold=0.05\n",
    ")"
   ]
  },
  {
   "cell_type": "code",
   "execution_count": null,
   "metadata": {},
   "outputs": [
    {
     "data": {
      "image/png": "[encoded data removed]",
      "text/plain": [
       "<Figure size 720x720 with 4 Axes>"
      ]
     },
     "metadata": {
      "needs_background": "light"
     },
     "output_type": "display_data"
    }
   ],
   "source": [
    "hs.plot_local_correlations()"
   ]
  },
  {
   "cell_type": "code",
   "execution_count": null,
   "metadata": {},
   "outputs": [
    {
     "data": {
      "text/html": [
       "<div>\n",
       "<style scoped>\n",
       "    .dataframe tbody tr th:only-of-type {\n",
       "        vertical-align: middle;\n",
       "    }\n",
       "\n",
       "    .dataframe tbody tr th {\n",
       "        vertical-align: top;\n",
       "    }\n",
       "\n",
       "    .dataframe thead th {\n",
       "        text-align: right;\n",
       "    }\n",
       "</style>\n",
       "<table border=\"1\" class=\"dataframe\">\n",
       "  <thead>\n",
       "    <tr style=\"text-align: right;\">\n",
       "      <th></th>\n",
       "      <th>C</th>\n",
       "      <th>Z</th>\n",
       "      <th>Pval</th>\n",
       "      <th>FDR</th>\n",
       "      <th>Module</th>\n",
       "    </tr>\n",
       "    <tr>\n",
       "      <th>Gene</th>\n",
       "      <th></th>\n",
       "      <th></th>\n",
       "      <th></th>\n",
       "      <th></th>\n",
       "      <th></th>\n",
       "    </tr>\n",
       "  </thead>\n",
       "  <tbody>\n",
       "  </tbody>\n",
       "</table>\n",
       "</div>"
      ],
      "text/plain": [
       "Empty DataFrame\n",
       "Columns: [C, Z, Pval, FDR, Module]\n",
       "Index: []"
      ]
     },
     "execution_count": 499,
     "metadata": {},
     "output_type": "execute_result"
    }
   ],
   "source": [
    "# Show the top genes for a module\n",
    "\n",
    "module = 1\n",
    "\n",
    "results = hs.results.join(hs.modules)\n",
    "results = results.loc[results.Module == module]\n",
    "df = results.sort_values('Z', ascending=False)\n",
    "df.head(10)\n"
   ]
  },
  {
   "cell_type": "code",
   "execution_count": null,
   "metadata": {},
   "outputs": [],
   "source": [
    "df.to_csv('/home/PAK-CSPMZ/vakimov/hotspot_tables/sheep1.csv')"
   ]
  },
  {
   "cell_type": "code",
   "execution_count": null,
   "metadata": {},
   "outputs": [
    {
     "name": "stdout",
     "output_type": "stream",
     "text": [
      "Computing scores for 0 modules...\n"
     ]
    },
    {
     "name": "stderr",
     "output_type": "stream",
     "text": [
      "0it [00:00, ?it/s]\n"
     ]
    },
    {
     "data": {
      "text/html": [
       "<div>\n",
       "<style scoped>\n",
       "    .dataframe tbody tr th:only-of-type {\n",
       "        vertical-align: middle;\n",
       "    }\n",
       "\n",
       "    .dataframe tbody tr th {\n",
       "        vertical-align: top;\n",
       "    }\n",
       "\n",
       "    .dataframe thead th {\n",
       "        text-align: right;\n",
       "    }\n",
       "</style>\n",
       "<table border=\"1\" class=\"dataframe\">\n",
       "  <thead>\n",
       "    <tr style=\"text-align: right;\">\n",
       "      <th></th>\n",
       "    </tr>\n",
       "  </thead>\n",
       "  <tbody>\n",
       "    <tr>\n",
       "      <th>marmoset1.W881687</th>\n",
       "    </tr>\n",
       "    <tr>\n",
       "      <th>marmoset1.W881689</th>\n",
       "    </tr>\n",
       "    <tr>\n",
       "      <th>marmoset1.W881690</th>\n",
       "    </tr>\n",
       "    <tr>\n",
       "      <th>marmoset1.W881691</th>\n",
       "    </tr>\n",
       "    <tr>\n",
       "      <th>marmoset1.W881692</th>\n",
       "    </tr>\n",
       "  </tbody>\n",
       "</table>\n",
       "</div>"
      ],
      "text/plain": [
       "Empty DataFrame\n",
       "Columns: []\n",
       "Index: [marmoset1.W881687, marmoset1.W881689, marmoset1.W881690, marmoset1.W881691, marmoset1.W881692]"
      ]
     },
     "execution_count": 501,
     "metadata": {},
     "output_type": "execute_result"
    }
   ],
   "source": [
    "module_scores = hs.calculate_module_scores()\n",
    "\n",
    "module_scores.head()"
   ]
  },
  {
   "cell_type": "code",
   "execution_count": null,
   "metadata": {},
   "outputs": [
    {
     "data": {
      "image/png": "[encoded data removed]",
      "text/plain": [
       "<Figure size 432x288 with 1 Axes>"
      ]
     },
     "metadata": {},
     "output_type": "display_data"
    }
   ],
   "source": [
    "sc.pp.neighbors(adata)\n",
    "sc.tl.umap(adata)\n",
    "sc.pl.umap(adata, frameon=False)"
   ]
  },
  {
   "cell_type": "code",
   "execution_count": null,
   "metadata": {},
   "outputs": [],
   "source": [
    "module_cols = []\n",
    "for c in module_scores.columns:\n",
    "    key = f\"Module {c}\"\n",
    "    adata.obs[key] = module_scores[c]\n",
    "    module_cols.append(key)"
   ]
  },
  {
   "cell_type": "code",
   "execution_count": null,
   "metadata": {},
   "outputs": [
    {
     "ename": "ValueError",
     "evalue": "Could not broadast together arguments with shapes: [0, 1].",
     "output_type": "error",
     "traceback": [
      "\u001b[0;31m---------------------------------------------------------------------------\u001b[0m",
      "\u001b[0;31mValueError\u001b[0m                                Traceback (most recent call last)",
      "\u001b[1;32m/home/PAK-CSPMZ/vakimov/Untitled5.ipynb Cell 19'\u001b[0m in \u001b[0;36m<cell line: 1>\u001b[0;34m()\u001b[0m\n\u001b[1;32m      <a href='vscode-notebook-cell://ssh-remote%2Bcs02.pak-cspmz.ru/home/PAK-CSPMZ/vakimov/Untitled5.ipynb#ch0000017vscode-remote?line=0'>1</a>\u001b[0m \u001b[39mwith\u001b[39;00m mplscience\u001b[39m.\u001b[39mstyle_context():\n\u001b[0;32m----> <a href='vscode-notebook-cell://ssh-remote%2Bcs02.pak-cspmz.ru/home/PAK-CSPMZ/vakimov/Untitled5.ipynb#ch0000017vscode-remote?line=1'>2</a>\u001b[0m     sc\u001b[39m.\u001b[39;49mpl\u001b[39m.\u001b[39;49mumap(adata, color\u001b[39m=\u001b[39;49mmodule_cols, frameon\u001b[39m=\u001b[39;49m\u001b[39mFalse\u001b[39;49;00m, vmin\u001b[39m=\u001b[39;49m\u001b[39m-\u001b[39;49m\u001b[39m1\u001b[39;49m, vmax\u001b[39m=\u001b[39;49m\u001b[39m1\u001b[39;49m)\n",
      "File \u001b[0;32m/usr/local/lib/python3.8/dist-packages/scanpy/plotting/_tools/scatterplots.py:669\u001b[0m, in \u001b[0;36mumap\u001b[0;34m(adata, **kwargs)\u001b[0m\n\u001b[1;32m    <a href='file:///usr/local/lib/python3.8/dist-packages/scanpy/plotting/_tools/scatterplots.py?line=609'>610</a>\u001b[0m \u001b[39m@_wraps_plot_scatter\u001b[39m\n\u001b[1;32m    <a href='file:///usr/local/lib/python3.8/dist-packages/scanpy/plotting/_tools/scatterplots.py?line=610'>611</a>\u001b[0m \u001b[39m@_doc_params\u001b[39m(\n\u001b[1;32m    <a href='file:///usr/local/lib/python3.8/dist-packages/scanpy/plotting/_tools/scatterplots.py?line=611'>612</a>\u001b[0m     adata_color_etc\u001b[39m=\u001b[39mdoc_adata_color_etc,\n\u001b[0;32m   (...)\u001b[0m\n\u001b[1;32m    <a href='file:///usr/local/lib/python3.8/dist-packages/scanpy/plotting/_tools/scatterplots.py?line=615'>616</a>\u001b[0m )\n\u001b[1;32m    <a href='file:///usr/local/lib/python3.8/dist-packages/scanpy/plotting/_tools/scatterplots.py?line=616'>617</a>\u001b[0m \u001b[39mdef\u001b[39;00m \u001b[39mumap\u001b[39m(adata, \u001b[39m*\u001b[39m\u001b[39m*\u001b[39mkwargs) \u001b[39m-\u001b[39m\u001b[39m>\u001b[39m Union[Axes, List[Axes], \u001b[39mNone\u001b[39;00m]:\n\u001b[1;32m    <a href='file:///usr/local/lib/python3.8/dist-packages/scanpy/plotting/_tools/scatterplots.py?line=617'>618</a>\u001b[0m     \u001b[39m\"\"\"\\\u001b[39;00m\n\u001b[1;32m    <a href='file:///usr/local/lib/python3.8/dist-packages/scanpy/plotting/_tools/scatterplots.py?line=618'>619</a>\u001b[0m \u001b[39m    Scatter plot in UMAP basis.\u001b[39;00m\n\u001b[1;32m    <a href='file:///usr/local/lib/python3.8/dist-packages/scanpy/plotting/_tools/scatterplots.py?line=619'>620</a>\u001b[0m \n\u001b[0;32m   (...)\u001b[0m\n\u001b[1;32m    <a href='file:///usr/local/lib/python3.8/dist-packages/scanpy/plotting/_tools/scatterplots.py?line=666'>667</a>\u001b[0m \u001b[39m    tl.umap\u001b[39;00m\n\u001b[1;32m    <a href='file:///usr/local/lib/python3.8/dist-packages/scanpy/plotting/_tools/scatterplots.py?line=667'>668</a>\u001b[0m \u001b[39m    \"\"\"\u001b[39;00m\n\u001b[0;32m--> <a href='file:///usr/local/lib/python3.8/dist-packages/scanpy/plotting/_tools/scatterplots.py?line=668'>669</a>\u001b[0m     \u001b[39mreturn\u001b[39;00m embedding(adata, \u001b[39m'\u001b[39;49m\u001b[39mumap\u001b[39;49m\u001b[39m'\u001b[39;49m, \u001b[39m*\u001b[39;49m\u001b[39m*\u001b[39;49mkwargs)\n",
      "File \u001b[0;32m/usr/local/lib/python3.8/dist-packages/scanpy/plotting/_tools/scatterplots.py:221\u001b[0m, in \u001b[0;36membedding\u001b[0;34m(adata, basis, color, gene_symbols, use_raw, sort_order, edges, edges_width, edges_color, neighbors_key, arrows, arrows_kwds, groups, components, dimensions, layer, projection, scale_factor, color_map, cmap, palette, na_color, na_in_legend, size, frameon, legend_fontsize, legend_fontweight, legend_loc, legend_fontoutline, colorbar_loc, vmax, vmin, vcenter, norm, add_outline, outline_width, outline_color, ncols, hspace, wspace, title, show, save, ax, return_fig, **kwargs)\u001b[0m\n\u001b[1;32m    <a href='file:///usr/local/lib/python3.8/dist-packages/scanpy/plotting/_tools/scatterplots.py?line=217'>218</a>\u001b[0m \u001b[39mif\u001b[39;00m components \u001b[39mis\u001b[39;00m \u001b[39mnot\u001b[39;00m \u001b[39mNone\u001b[39;00m:\n\u001b[1;32m    <a href='file:///usr/local/lib/python3.8/dist-packages/scanpy/plotting/_tools/scatterplots.py?line=218'>219</a>\u001b[0m     color, dimensions \u001b[39m=\u001b[39m \u001b[39mlist\u001b[39m(\u001b[39mzip\u001b[39m(\u001b[39m*\u001b[39mproduct(color, dimensions)))\n\u001b[0;32m--> <a href='file:///usr/local/lib/python3.8/dist-packages/scanpy/plotting/_tools/scatterplots.py?line=220'>221</a>\u001b[0m color, dimensions \u001b[39m=\u001b[39m _broadcast_args(color, dimensions)\n\u001b[1;32m    <a href='file:///usr/local/lib/python3.8/dist-packages/scanpy/plotting/_tools/scatterplots.py?line=222'>223</a>\u001b[0m \u001b[39m# 'color' is a list of names that want to be plotted.\u001b[39;00m\n\u001b[1;32m    <a href='file:///usr/local/lib/python3.8/dist-packages/scanpy/plotting/_tools/scatterplots.py?line=223'>224</a>\u001b[0m \u001b[39m# Eg. ['Gene1', 'louvain', 'Gene2'].\u001b[39;00m\n\u001b[1;32m    <a href='file:///usr/local/lib/python3.8/dist-packages/scanpy/plotting/_tools/scatterplots.py?line=224'>225</a>\u001b[0m \u001b[39m# component_list is a list of components [[0,1], [1,2]]\u001b[39;00m\n\u001b[1;32m    <a href='file:///usr/local/lib/python3.8/dist-packages/scanpy/plotting/_tools/scatterplots.py?line=225'>226</a>\u001b[0m \u001b[39mif\u001b[39;00m (\n\u001b[1;32m    <a href='file:///usr/local/lib/python3.8/dist-packages/scanpy/plotting/_tools/scatterplots.py?line=226'>227</a>\u001b[0m     \u001b[39mnot\u001b[39;00m \u001b[39misinstance\u001b[39m(color, \u001b[39mstr\u001b[39m)\n\u001b[1;32m    <a href='file:///usr/local/lib/python3.8/dist-packages/scanpy/plotting/_tools/scatterplots.py?line=227'>228</a>\u001b[0m     \u001b[39mand\u001b[39;00m \u001b[39misinstance\u001b[39m(color, cabc\u001b[39m.\u001b[39mSequence)\n\u001b[1;32m    <a href='file:///usr/local/lib/python3.8/dist-packages/scanpy/plotting/_tools/scatterplots.py?line=228'>229</a>\u001b[0m     \u001b[39mand\u001b[39;00m \u001b[39mlen\u001b[39m(color) \u001b[39m>\u001b[39m \u001b[39m1\u001b[39m\n\u001b[1;32m    <a href='file:///usr/local/lib/python3.8/dist-packages/scanpy/plotting/_tools/scatterplots.py?line=229'>230</a>\u001b[0m ) \u001b[39mor\u001b[39;00m \u001b[39mlen\u001b[39m(dimensions) \u001b[39m>\u001b[39m \u001b[39m1\u001b[39m:\n",
      "File \u001b[0;32m/usr/local/lib/python3.8/dist-packages/scanpy/plotting/_tools/scatterplots.py:1357\u001b[0m, in \u001b[0;36m_broadcast_args\u001b[0;34m(*args)\u001b[0m\n\u001b[1;32m   <a href='file:///usr/local/lib/python3.8/dist-packages/scanpy/plotting/_tools/scatterplots.py?line=1354'>1355</a>\u001b[0m longest \u001b[39m=\u001b[39m \u001b[39mmax\u001b[39m(lens)\n\u001b[1;32m   <a href='file:///usr/local/lib/python3.8/dist-packages/scanpy/plotting/_tools/scatterplots.py?line=1355'>1356</a>\u001b[0m \u001b[39mif\u001b[39;00m \u001b[39mnot\u001b[39;00m (\u001b[39mset\u001b[39m(lens) \u001b[39m==\u001b[39m {\u001b[39m1\u001b[39m, longest} \u001b[39mor\u001b[39;00m \u001b[39mset\u001b[39m(lens) \u001b[39m==\u001b[39m {longest}):\n\u001b[0;32m-> <a href='file:///usr/local/lib/python3.8/dist-packages/scanpy/plotting/_tools/scatterplots.py?line=1356'>1357</a>\u001b[0m     \u001b[39mraise\u001b[39;00m \u001b[39mValueError\u001b[39;00m(\u001b[39mf\u001b[39m\u001b[39m\"\u001b[39m\u001b[39mCould not broadast together arguments with shapes: \u001b[39m\u001b[39m{\u001b[39;00mlens\u001b[39m}\u001b[39;00m\u001b[39m.\u001b[39m\u001b[39m\"\u001b[39m)\n\u001b[1;32m   <a href='file:///usr/local/lib/python3.8/dist-packages/scanpy/plotting/_tools/scatterplots.py?line=1357'>1358</a>\u001b[0m \u001b[39mreturn\u001b[39;00m \u001b[39mlist\u001b[39m(\n\u001b[1;32m   <a href='file:///usr/local/lib/python3.8/dist-packages/scanpy/plotting/_tools/scatterplots.py?line=1358'>1359</a>\u001b[0m     [[arg[\u001b[39m0\u001b[39m] \u001b[39mfor\u001b[39;00m _ \u001b[39min\u001b[39;00m \u001b[39mrange\u001b[39m(longest)] \u001b[39mif\u001b[39;00m \u001b[39mlen\u001b[39m(arg) \u001b[39m==\u001b[39m \u001b[39m1\u001b[39m \u001b[39melse\u001b[39;00m arg \u001b[39mfor\u001b[39;00m arg \u001b[39min\u001b[39;00m args]\n\u001b[1;32m   <a href='file:///usr/local/lib/python3.8/dist-packages/scanpy/plotting/_tools/scatterplots.py?line=1359'>1360</a>\u001b[0m )\n",
      "\u001b[0;31mValueError\u001b[0m: Could not broadast together arguments with shapes: [0, 1]."
     ]
    }
   ],
   "source": [
    "with mplscience.style_context():\n",
    "    sc.pl.umap(adata, color=module_cols, frameon=False, vmin=-1, vmax=1)"
   ]
  }
 ],
 "metadata": {
  "interpreter": {
   "hash": "31f2aee4e71d21fbe5cf8b01ff0e069b9275f58929596ceb00d14d90e3e16cd6"
  },
  "kernelspec": {
   "display_name": "Python 3.8.10 64-bit",
   "language": "python",
   "name": "python3"
  },
  "language_info": {
   "codemirror_mode": {
    "name": "ipython",
    "version": 3
   },
   "file_extension": ".py",
   "mimetype": "text/x-python",
   "name": "python",
   "nbconvert_exporter": "python",
   "pygments_lexer": "ipython3",
   "version": "3.8.10"
  }
 },
 "nbformat": 4,
 "nbformat_minor": 4
}
